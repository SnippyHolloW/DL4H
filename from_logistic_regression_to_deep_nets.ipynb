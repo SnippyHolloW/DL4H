{
 "metadata": {
  "name": "",
  "signature": "sha256:3f33955fbd6bcf994cda85867b1dded295c96c605278a8fb23cf54fa9d1d2d36"
 },
 "nbformat": 3,
 "nbformat_minor": 0,
 "worksheets": [
  {
   "cells": [
    {
     "cell_type": "code",
     "collapsed": false,
     "input": [
      "%matplotlib inline"
     ],
     "language": "python",
     "metadata": {},
     "outputs": [],
     "prompt_number": 1
    },
    {
     "cell_type": "markdown",
     "metadata": {},
     "source": [
      "_Diclaimer/Context:_ This is the material for a practical given at LSCP (ENS, Paris). Some stuff can be missing from my whiteboard explanations there. Tell me on Github, at https://github.com/SnippyHolloW/DL4H/, or at gabriel.synnaeve@gmail.com or @syhw on Twitter, I'll try and update it accordingly. Pull requests welcomed."
     ]
    },
    {
     "cell_type": "markdown",
     "metadata": {},
     "source": [
      "_How to read this (for students):_ go ahead and run things, change things, break things, and fix them!"
     ]
    },
    {
     "cell_type": "heading",
     "level": 1,
     "metadata": {},
     "source": [
      "From Logistic Regression to Deep Nets, a Crash Course [Practical 1/2]"
     ]
    },
    {
     "cell_type": "markdown",
     "metadata": {},
     "source": [
      "Important concepts (I'll explain them on demand during this practical):\n",
      "- [loss functions](http://en.wikipedia.org/wiki/Loss_function) (e.g. log-loss vs hinge loss)\n",
      "- [regularization](http://bit.ly/1A4HuLo) (e.g. L1 vs L2)\n",
      "- [purely stochastic gradient](http://en.wikipedia.org/wiki/Stochastic_gradient_descent) vs. mini-batches averaging\n",
      "- [early stopping](http://en.wikipedia.org/wiki/Early_stopping) (one part of the solution to [overfitting](http://en.wikipedia.org/wiki/Overfitting#Machine_learning))\n",
      "- [momentum-based SGD](http://www.cs.toronto.edu/~fritz/absps/momentum.pdf)\n",
      "- [back-propagation](http://en.wikipedia.org/wiki/Backpropagation) (the chain rule with partial derivatives)\n",
      "\n",
      "Central concepts in machine learning that are not covered here:\n",
      "- ***[Cross-validation](http://scikit-learn.org/stable/modules/cross_validation.html)*** (for (hyper-)parameters optimization)\n",
      "- [Feature selection](http://scikit-learn.org/stable/modules/feature_selection.html)\n",
      "- ...\n",
      "\n",
      "_Practical 2/2_ will be more about how to work with Theano and how to extend my own code  \n",
      "(in particular https://github.com/SnippyHolloW/abnet or https://github.com/bootphon/crossitlearn)"
     ]
    },
    {
     "cell_type": "markdown",
     "metadata": {},
     "source": [
      "In general:\n",
      "$X$ is for data/samples (n_samples, n_features), $x_i$ is one data point (n_features,),\n",
      "$y$ is for labels (n_samples,), $y_i$ is the label of $x_i$,\n",
      "$W$ is for weights,\n",
      "$\\alpha$ is for regularization,\n",
      "$\\lambda$ is for learning rates"
     ]
    },
    {
     "cell_type": "heading",
     "level": 2,
     "metadata": {},
     "source": [
      "\n",
      "0. The Small Digits Dataset"
     ]
    },
    {
     "cell_type": "code",
     "collapsed": false,
     "input": [
      "from __future__ import print_function\n",
      "import numpy as np\n",
      "from sklearn.datasets import load_digits\n",
      "\n",
      "digits = load_digits()\n",
      "import matplotlib.pyplot as plt\n",
      "plt.rcParams['figure.figsize'] = (8, 5)\n",
      "plt.gray()\n",
      "plt.figure(1, figsize=(3, 3))\n",
      "plt.imshow(digits.images[0], cmap=plt.cm.gray_r, interpolation='nearest')\n",
      "data = np.asarray(digits.data, dtype='float32')\n",
      "target = np.asarray(digits.target, dtype='int32')\n",
      "x = data\n",
      "y = target\n",
      "from sklearn import preprocessing\n",
      "x = preprocessing.scale(x)\n",
      "from sklearn import cross_validation\n",
      "x_train, x_test, y_train, y_test = cross_validation.train_test_split(x, y, test_size=0.15, random_state=42)\n",
      "print(x_train.shape)\n",
      "print(y_train.shape)\n",
      "print(x_test.shape)\n",
      "print(y_test.shape)\n",
      "assert (len(set(y_train)) == len(set(y_test)))  # should work with random_state=42 ;-)"
     ],
     "language": "python",
     "metadata": {},
     "outputs": [
      {
       "output_type": "stream",
       "stream": "stdout",
       "text": [
        "(1527, 64)\n",
        "(1527,)\n",
        "(270, 64)\n",
        "(270,)\n"
       ]
      },
      {
       "metadata": {},
       "output_type": "display_data",
       "png": "[encoded data removed]",
       "text": [
        "<matplotlib.figure.Figure at 0x11256d4d0>"
       ]
      }
     ],
     "prompt_number": 3
    },
    {
     "cell_type": "heading",
     "level": 2,
     "metadata": {},
     "source": [
      "1. Dumb-Simple Logistic Regression"
     ]
    },
    {
     "cell_type": "heading",
     "level": 3,
     "metadata": {},
     "source": [
      "A minimal amount of theory"
     ]
    },
    {
     "cell_type": "markdown",
     "metadata": {},
     "source": [
      "[Logistic regression](http://en.wikipedia.org/wiki/Logistic_regression) is linear regression ($y = X^T\\cdot W + \\epsilon$) to which we apply a logistic function ($\\frac{1}{1+e^{-z}}$). Why? To transform the $y$ into something more categorical (binary if only two classes). In particular, when we are doing logistic regression, we are making the assumption that the $\\log$ of the odds (of e.g. a $X \\sim Bernoulli(P)$) is a linear regression: \n",
      "\n",
      "$$\\log ( \\frac{P}{1-P} ) = X^T \\cdot W  \\Longleftrightarrow P = \\frac{\\exp(X^T \\cdot W)}{1 + \\exp(X^T \\cdot W)}$$\n",
      "\n",
      "We want to _maximize_ the likelihood of our model (actually, if we have a prior on the parameters, we want the maximum a posteriori, an in this case we need to add a term to the negative log-likelihood below, if that prior is Gaussian, that's like doing L2 regularization).\n",
      "\n",
      "If we think in term of loss function, we want to _minimize_ the _negative_ log-likelihood ($\\log$ is monotonically increasing). I'm writing it in the general case where $y$ is not just binary:\n",
      "\n",
      "$$NLL(W) = -\\frac{1}{n} \\sum_{i=1}^n \\sum_{j=1}^m \\mathbb{1}_{y_i=j} \\log P(y_i=j|x_i; W)$$\n",
      "with\n",
      "$$P(y_i=j|x_i; W) = softmax(W, x_i)[j]$$\n",
      "and\n",
      "$$softmax(W, x)[j] = \\frac{\\exp(x \\cdot W_j)}{\\sum_{k} \\exp(x \\cdot W_k)}$$\n",
      "We can derive the gradient:\n",
      "$$\\nabla_{W_j} = -\\frac{1}{n} \\sum_{i=1}^n x_i (\\mathbb{1}_{y_i=j} - P(y_i=j|x_i, W))$$"
     ]
    },
    {
     "cell_type": "heading",
     "level": 3,
     "metadata": {},
     "source": [
      "A not-so-minimal amount of code"
     ]
    },
    {
     "cell_type": "markdown",
     "metadata": {},
     "source": [
      "By no mean this is minimal nor \"smart\" nor efficient, this aims at being _easy_ to understand, it fills only a pedagogical role. That said, it can always be improved. All pull requests making it easier to grasp are welcomed!"
     ]
    },
    {
     "cell_type": "code",
     "collapsed": false,
     "input": [
      "def softmax(W, x):\n",
      "    \"\"\" P(y=j | X) = exp(<X,W_j>) / (sum_k(exp(<X,W_k>)))\n",
      "    W: (n_features, n_outputs)\n",
      "    X: (n_features,)\n",
      "    \"\"\"\n",
      "    tmp = np.exp(np.dot(x, W))\n",
      "    return tmp / np.sum(tmp)\n",
      "\n",
      "from scipy.optimize.optimize import check_grad\n",
      "from scipy.optimize import fmin_l_bfgs_b\n",
      "\n",
      "class LogisticRegression:\n",
      "    def __init__(self):\n",
      "        self.name = \"Logistic Regression\"\n",
      "        \n",
      "    def loss(self, W):\n",
      "        \"\"\" Negative log-likelihood as described above \"\"\"\n",
      "        l = 0.\n",
      "        tmp_W = W.reshape((self.x.shape[1], self.n_classes))\n",
      "        for i, xi in enumerate(self.x):\n",
      "            p_i = softmax(tmp_W, xi)\n",
      "            l += np.log(p_i[self.y[i]])\n",
      "        return - l / self.x.shape[0]\n",
      "                   \n",
      "    def loss_derivative(self, W):\n",
      "        \"\"\" flattened (1-D) gradient vector \"\"\"\n",
      "        d = np.zeros((self.x.shape[1], self.n_classes)) # that's the Jacobian\n",
      "        tmp_W = W.reshape((self.x.shape[1], self.n_classes))\n",
      "        for i, xi in enumerate(self.x):\n",
      "            p_i = softmax(tmp_W, xi)\n",
      "            for j, v in enumerate(p_i):\n",
      "                if j == self.y[i]:  # because we don't have a \"one-hot\" encoding\n",
      "                    d[:,j] += (1 - p_i[j]) * xi\n",
      "                else:\n",
      "                    d[:,j] += - p_i[j] * xi\n",
      "        d = d.reshape(W.shape) # and we flatten it\n",
      "        return - d / self.x.shape[0]\n",
      "    \n",
      "    def train(self, x_train, y_train, debug=False):\n",
      "        self.x = np.hstack((x_train, np.ones((x_train.shape[0], 1))))\n",
      "        self.y = y_train\n",
      "        self.n_classes = len(set(y_train))\n",
      "        self.W = np.ones((x_train.shape[1] + 1, self.n_classes))\n",
      "        print(\"W shape:\", self.W.shape)\n",
      "        print(\"x shape:\", self.x.shape)\n",
      "        print(\"loss before training:\", self.loss(self.W))\n",
      "        print(\"prediction on x[0] before training:\", softmax(self.W, self.x[0]))\n",
      "        if debug == True:\n",
      "            tmp = self.loss_derivative(self.W.reshape((self.W.shape[0]*self.W.shape[1],)))\n",
      "            print(\"loss derivative shape:\", tmp.shape)\n",
      "            print(\"loss derivative value:\", tmp)\n",
      "            print(\"checking the gradient with finite differences, show be low (something E-6):\",\n",
      "                  check_grad(self.loss, self.loss_derivative, self.W.reshape((self.W.shape[0]*self.W.shape[1],))))\n",
      "            # that's nothing more than checking that f'(x) ~= (f(x+h)-f(x))/h with h->0\n",
      "        tmp = fmin_l_bfgs_b(self.loss, self.W.reshape((self.W.shape[0]*self.W.shape[1],)), fprime=self.loss_derivative)\n",
      "        self.W = tmp[0].reshape((self.x.shape[1], self.n_classes))\n",
      "        print(\"loss after training:\", self.loss(self.W))\n",
      "        print(\"prediction on x[0] after training:\", softmax(self.W, self.x[0]))\n",
      "        print(\"true x[0] label:\", self.y[0])\n",
      "        \n",
      "    def score(self, x_test, y_test):\n",
      "        x = np.hstack((x_test, np.ones((x_test.shape[0], 1))))\n",
      "        y = y_test\n",
      "        c = 0\n",
      "        for i, xi in enumerate(x):\n",
      "            a = np.argmax(softmax(self.W, xi))\n",
      "            if a == y[i]:\n",
      "                c += 1\n",
      "        return c * 1. / y.shape[0]\n",
      "\n",
      "lr = LogisticRegression()\n",
      "lr.train(x_train, y_train)\n",
      "plt.imshow(lr.W.transpose(), interpolation='none')\n",
      "plt.show()\n",
      "print(\"weights for 0:\")\n",
      "plt.imshow(lr.W.transpose()[0][:64].reshape((8,8)), interpolation='none')\n",
      "plt.show()\n",
      "print(\"weights for 5:\")\n",
      "plt.imshow(lr.W.transpose()[5][:64].reshape((8,8)), interpolation='none')\n",
      "plt.show()\n",
      "print(\"weights for 8 minus weights for 3:\")\n",
      "plt.imshow(lr.W.transpose()[8][:64].reshape((8,8)) - lr.W.transpose()[3][:64].reshape((8,8)), interpolation='none')\n",
      "plt.show()\n",
      "print(\"training accuracy:\", lr.score(x_train, y_train))\n",
      "print(\"test accuracy:\", lr.score(x_test, y_test))\n",
      "print(\"We should overfit, i.e. test score << train score, you can add an L2 regularization\")"
     ],
     "language": "python",
     "metadata": {},
     "outputs": [
      {
       "output_type": "stream",
       "stream": "stdout",
       "text": [
        "W shape: (65, 10)\n",
        "x shape: (1527, 65)\n",
        "loss before training: 2.30258509299\n",
        "prediction on x[0] before training: [ 0.1  0.1  0.1  0.1  0.1  0.1  0.1  0.1  0.1  0.1]\n",
        "loss after training:"
       ]
      },
      {
       "output_type": "stream",
       "stream": "stdout",
       "text": [
        " 1.84669284921e-05\n",
        "prediction on x[0] after training: [  1.08822355e-31   9.98300553e-01   1.77810355e-28   3.23091472e-47\n",
        "   9.64927736e-20   2.79499404e-36   1.13639647e-16   6.26997256e-36\n",
        "   1.69944705e-03   1.81750303e-29]\n",
        "true x[0] label: 1\n"
       ]
      },
      {
       "metadata": {},
       "output_type": "display_data",
       "png": "[encoded data removed]",
       "text": [
        "<matplotlib.figure.Figure at 0x10f5f30d0>"
       ]
      },
      {
       "output_type": "stream",
       "stream": "stdout",
       "text": [
        "weights for 0:\n"
       ]
      },
      {
       "metadata": {},
       "output_type": "display_data",
       "png": "[encoded data removed]",
       "text": [
        "<matplotlib.figure.Figure at 0x11056ae10>"
       ]
      },
      {
       "output_type": "stream",
       "stream": "stdout",
       "text": [
        "weights for 5:\n"
       ]
      },
      {
       "metadata": {},
       "output_type": "display_data",
       "png": "[encoded data removed]",
       "text": [
        "<matplotlib.figure.Figure at 0x110df80d0>"
       ]
      },
      {
       "output_type": "stream",
       "stream": "stdout",
       "text": [
        "weights for 8 minus weights for 3:\n"
       ]
      },
      {
       "metadata": {},
       "output_type": "display_data",
       "png": "[encoded data removed]",
       "text": [
        "<matplotlib.figure.Figure at 0x110e42710>"
       ]
      },
      {
       "output_type": "stream",
       "stream": "stdout",
       "text": [
        "training accuracy: 1.0\n",
        "test accuracy: 0.955555555556\n",
        "We should overfit, i.e. test score << train score, you can add an L2 regularization\n"
       ]
      }
     ],
     "prompt_number": 10
    },
    {
     "cell_type": "markdown",
     "metadata": {},
     "source": [
      "_Bonus:_ you can add regularization (order to try: L2, L1, ElasticNet), start with adding the square of the weights magnitudes to the loss function (weight this sum by an $\\alpha$ as \"L2 regularization parameter\") http://en.wikipedia.org/wiki/Tikhonov_regularization // http://en.wikipedia.org/wiki/Least_squares#Lasso_method"
     ]
    },
    {
     "cell_type": "heading",
     "level": 3,
     "metadata": {},
     "source": [
      "Reality check: linear and RBF SVMs from scikit-learn"
     ]
    },
    {
     "cell_type": "code",
     "collapsed": false,
     "input": [
      "from sklearn import svm\n",
      "clf = svm.SVC(kernel='linear')\n",
      "clf.fit(x_train, y_train)\n",
      "print(\"Linear SVM\")\n",
      "print(\"training accuracy:\", clf.score(x_train, y_train))\n",
      "print(\"test accuracy:\", clf.score(x_test, y_test))\n",
      "clf = svm.SVC(kernel='rbf')\n",
      "clf.fit(x_train, y_train)\n",
      "print(\"with and RBF kernel\")\n",
      "print(\"training accuracy:\", clf.score(x_train, y_train))\n",
      "print(\"test accuracy:\", clf.score(x_test, y_test))"
     ],
     "language": "python",
     "metadata": {},
     "outputs": [
      {
       "output_type": "stream",
       "stream": "stdout",
       "text": [
        "Linear SVM\n",
        "training accuracy: 1.0\n",
        "test accuracy:"
       ]
      },
      {
       "output_type": "stream",
       "stream": "stdout",
       "text": [
        " 0.97037037037\n",
        "with and RBF kernel"
       ]
      },
      {
       "output_type": "stream",
       "stream": "stdout",
       "text": [
        "\n",
        "training accuracy:"
       ]
      },
      {
       "output_type": "stream",
       "stream": "stdout",
       "text": [
        " 0.996725605763\n",
        "test accuracy: 0.981481481481\n"
       ]
      }
     ],
     "prompt_number": 8
    },
    {
     "cell_type": "markdown",
     "metadata": {},
     "source": [
      "_Bonus:_ change the loss of our logistic regression for a [hinge loss](http://en.wikipedia.org/wiki/Hinge_loss) and get a linear SVM. With regularization, you should approach scores above."
     ]
    },
    {
     "cell_type": "heading",
     "level": 2,
     "metadata": {},
     "source": [
      "2. Intro to SGD"
     ]
    },
    {
     "cell_type": "markdown",
     "metadata": {},
     "source": [
      "We used an [L-BFGS](http://en.wikipedia.org/wiki/Limited-memory_BFGS) optimization procedure, which is quasi-Newton (Newton algorithm to find the 0s of f: $x_{n+1} = x_n - \\frac{f(x_n)}{f'(x_n)}$, and we search the 0s of $\\nabla(loss)$). It uses an approximation of the Hessian matrix (matrix of second-order partial derivatives), but it's still more costly (in CPU time, but particularly in RAM) than just using the Jacobian (matrix of the first-order partial derivatives). Let's optimize this $loss$ by just taking small steps in the direction of the gradient, each datapoint at a time."
     ]
    },
    {
     "cell_type": "code",
     "collapsed": false,
     "input": [
      "def init(lr, x_train, y_train):\n",
      "    lr.x = np.hstack((x_train, np.ones((x_train.shape[0], 1))))\n",
      "    lr.y = y_train\n",
      "    lr.n_classes = len(set(y_train))\n",
      "    lr.W = np.zeros((x_train.shape[1] + 1, lr.n_classes))\n",
      "    \n",
      "    \n",
      "def one_epoch_of_SGD(lr, learning_rate):\n",
      "    \"\"\" an \"epoch\" is a full pass/iteration on the dataset \"\"\"\n",
      "    tmp_W = lr.W[:]\n",
      "    for i, xi in enumerate(lr.x):\n",
      "        p_i = softmax(tmp_W, xi)\n",
      "        for j, v in enumerate(p_i):\n",
      "            if j == lr.y[i]:\n",
      "                tmp_W[:,j] += learning_rate * (xi * (1 - v))\n",
      "            else:\n",
      "                tmp_W[:,j] += learning_rate * (- xi * v)\n",
      "    return tmp_W\n",
      "    \n",
      "    \n",
      "class LogisticRegression2:\n",
      "    def __init__(self):\n",
      "        self.name = \"Logistic Regression\"\n",
      "        \n",
      "    def loss(self):  # we redefine it so that we dont have to do all the reshaping, as we don't use scipy's L-BFGS anymore\n",
      "        \"\"\" Negative log-likelihood as described above \"\"\"\n",
      "        l = 0.\n",
      "        for i, xi in enumerate(self.x):\n",
      "            p_i = softmax(self.W, xi)\n",
      "            l += np.log(p_i[self.y[i]])\n",
      "        return - l / self.x.shape[0]\n",
      "    \n",
      "    def score(self, x_test, y_test):\n",
      "        x = np.hstack((x_test, np.ones((x_test.shape[0], 1))))\n",
      "        y = y_test\n",
      "        c = 0\n",
      "        for i, xi in enumerate(x):\n",
      "            a = np.argmax(softmax(self.W, xi))\n",
      "            if a == y[i]:\n",
      "                c += 1\n",
      "        return c * 1. / y.shape[0]\n",
      "\n",
      "    \n",
      "def stupid_train_with_SGD(lr, x_train, y_train):\n",
      "    init(lr, x_train, y_train)\n",
      "    print(\"loss before training:\", lr.loss())\n",
      "    lr.W = one_epoch_of_SGD(lr, learning_rate=0.01)\n",
      "    old_loss = 1.E31\n",
      "    new_loss = lr.loss()\n",
      "    losses = [new_loss]\n",
      "    print(\"loss after one epoch of training:\", new_loss)\n",
      "    lr.W = one_epoch_of_SGD(lr, learning_rate=0.01)\n",
      "    new_loss = lr.loss()\n",
      "    losses.append(new_loss)\n",
      "    print(\"loss after two epochs of training:\", new_loss)\n",
      "    while old_loss - new_loss > 1.E-5:  # we want to optimize up to decreasing in the loss of 1.E-5 ==> STUPIDELY BAD\n",
      "        old_loss = new_loss\n",
      "        lr.W = one_epoch_of_SGD(lr, learning_rate=0.01)\n",
      "        new_loss = lr.loss()\n",
      "        losses.append(new_loss)\n",
      "    print(\"best loss:\", new_loss)\n",
      "    plt.plot(np.arange(len(losses)), np.log(losses), label=\"stupid\", linewidth=2, linestyle=\"--\")\n",
      "    \n",
      "    \n",
      "def slightly_less_stupid_train_with_SGD(lr, x_train, y_train):\n",
      "    init(lr, x_train, y_train)\n",
      "    print(\"loss before training:\", lr.loss())\n",
      "    old_loss = 1.E31\n",
      "    losses = []\n",
      "    new_loss = 1.E30\n",
      "    while abs(old_loss - new_loss) > 1.E-5:  # we want to optimize up to changes in the loss of 1.E-5 ==> BAD\n",
      "        old_loss = new_loss\n",
      "        lr.W = one_epoch_of_SGD(lr, learning_rate=0.01)\n",
      "        new_loss = lr.loss()\n",
      "        losses.append(new_loss)\n",
      "    print(\"best loss:\", new_loss)\n",
      "    plt.plot(np.arange(len(losses)), np.log(losses), label=\"slightly less stupid\", linewidth=2, linestyle=\":\")\n",
      "    \n",
      "    \n",
      "def early_stopping_train_with_SGD(lr, x_train, y_train):\n",
      "    \"\"\" using the training set as validation set, \n",
      "    DO NOT DO THIS IN PRACTICE! USE A SEPARATE VALIDATION SET \"\"\"\n",
      "    init(lr, x_train, y_train)\n",
      "    print(\"loss before training:\", lr.loss())\n",
      "    old_score = -1.\n",
      "    new_score = lr.score(x_train, y_train)\n",
      "    losses = []\n",
      "    patience = 3  # number of epochs of patience\n",
      "    while new_score > old_score or patience:\n",
      "        if new_score > old_score:\n",
      "            patience = 3\n",
      "        else:\n",
      "            patience -= 1\n",
      "        old_score = new_score\n",
      "        lr.W = one_epoch_of_SGD(lr, learning_rate=0.01)\n",
      "        new_score = lr.score(x_train, y_train)\n",
      "        losses.append(lr.loss())\n",
      "    print(\"best loss:\", losses[-1])\n",
      "    plt.plot(np.arange(len(losses)), np.log(losses), label=\"crude early stopping\\n3 epochs of patience\", linewidth=1.5)\n",
      "\n",
      "    \n",
      "lr = LogisticRegression2()\n",
      "    \n",
      "print(\"stupid stopping condition [will stop at the first bump in the loss function]\")\n",
      "stupid_train_with_SGD(lr, x_train, y_train)\n",
      "print(\"training accuracy:\", lr.score(x_train, y_train))\n",
      "print(\"test accuracy:\", lr.score(x_test, y_test))\n",
      "print()\n",
      "\n",
      "print(\"slightly less stupid stopping condition [will stop when the loss function is flat]\")\n",
      "slightly_less_stupid_train_with_SGD(lr, x_train, y_train)\n",
      "print(\"training accuracy:\", lr.score(x_train, y_train))\n",
      "print(\"test accuracy:\", lr.score(x_test, y_test))\n",
      "print()\n",
      "\n",
      "print(\"(very) early stopping (crude, with 3 epochs of patience)\")\n",
      "print(\"[optimizes for the right thing, but do it on a _separate_ validation set!]\")\n",
      "early_stopping_train_with_SGD(lr, x_train, y_train)  # using the training set as validation set, \n",
      "                                                     # DO NOT DO THIS IN PRACTICE!\n",
      "                                                     # USE A SEPARATE VALIDATION SET\n",
      "print(\"training accuracy:\", lr.score(x_train, y_train))\n",
      "print(\"test accuracy:\", lr.score(x_test, y_test))\n",
      "plt.ylabel(\"log of the loss function\")\n",
      "plt.xlabel(\"#epochs\")\n",
      "plt.legend()"
     ],
     "language": "python",
     "metadata": {},
     "outputs": [
      {
       "output_type": "stream",
       "stream": "stdout",
       "text": [
        "stupid stopping condition [will stop at the first bump in the loss function]\n",
        "loss before training: 2.30258509299\n",
        "loss after one epoch of training:"
       ]
      },
      {
       "output_type": "stream",
       "stream": "stdout",
       "text": [
        " 0.229635078515\n",
        "loss after two epochs of training:"
       ]
      },
      {
       "output_type": "stream",
       "stream": "stdout",
       "text": [
        " 0.157913366763\n",
        "best loss:"
       ]
      },
      {
       "output_type": "stream",
       "stream": "stdout",
       "text": [
        " 0.00421204401221\n",
        "training accuracy:"
       ]
      },
      {
       "output_type": "stream",
       "stream": "stdout",
       "text": [
        " 1.0\n",
        "test accuracy: 0.962962962963\n",
        "\n",
        "slightly less stupid stopping condition [will stop when the loss function is flat]\n",
        "loss before training: 2.30258509299\n",
        "best loss:"
       ]
      },
      {
       "output_type": "stream",
       "stream": "stdout",
       "text": [
        " 0.00421204401221\n",
        "training accuracy: 1.0\n",
        "test accuracy: 0.962962962963\n",
        "\n",
        "(very) early stopping (crude, with 3 epochs of patience)\n",
        "[optimizes for the right thing, but do it on a _separate_ validation set!]\n",
        "loss before training: 2.30258509299\n",
        "best loss:"
       ]
      },
      {
       "output_type": "stream",
       "stream": "stdout",
       "text": [
        " 0.029649373213\n",
        "training accuracy: 0.998035363458\n",
        "test accuracy: 0.966666666667\n"
       ]
      },
      {
       "metadata": {},
       "output_type": "pyout",
       "prompt_number": 11,
       "text": [
        "<matplotlib.legend.Legend at 0x110dffa10>"
       ]
      },
      {
       "metadata": {},
       "output_type": "display_data",
       "png": "[encoded data removed]",
       "text": [
        "<matplotlib.figure.Figure at 0x110889250>"
       ]
      }
     ],
     "prompt_number": 11
    },
    {
     "cell_type": "markdown",
     "metadata": {},
     "source": [
      "_Bonus:_ plot the train set and test set accuracies (scores) over epochs, see overfitting."
     ]
    },
    {
     "cell_type": "heading",
     "level": 4,
     "metadata": {},
     "source": [
      "Learning rate schemes and \"pure\" SGD"
     ]
    },
    {
     "cell_type": "markdown",
     "metadata": {},
     "source": [
      "Can we decrease the learning rate smartly? Why, yes! Check out below with $\\lambda_t = \\frac{\\lambda_0}{1 + \\lambda_0 \\sqrt t}$, where we also get rid of epochs to do pure SGD. Read [SGD tricks](http://research.microsoft.com/pubs/192769/tricks-2012.pdf) for more good stuff (e.g. you should try $\\lambda_t = \\frac{\\lambda_0}{(1 + \\lambda_0 \\alpha t)^p}$ with powers $p=0.5$ and $p=1$). "
     ]
    },
    {
     "cell_type": "code",
     "collapsed": false,
     "input": [
      "from random import randint\n",
      "\n",
      "def train_with_pure_SGD(lr, x_train, y_train, init_learning_rate=0.1):\n",
      "    init(lr, x_train, y_train)\n",
      "    old_loss = 1.E31\n",
      "    new_loss = lr.loss()\n",
      "    print(\"loss before training:\", new_loss)\n",
      "    def get_learning_rate(t):\n",
      "        return init_learning_rate / (1 + init_learning_rate*np.sqrt(t))\n",
      "        #return init_learning_rate / (1 + init_learning_rate*t)\n",
      "    learning_rate = get_learning_rate(0)\n",
      "    losses = [new_loss]\n",
      "    gradients = []\n",
      "    # here we do purely stochastic gradient descent\n",
      "    t = 0\n",
      "    while t < 1000:  # here we see a fixed number of samples\n",
      "        t += 1\n",
      "        old_loss = new_loss\n",
      "        # pick a random sample\n",
      "        i = randint(0, lr.x.shape[0]-1)\n",
      "        xi = lr.x[i]\n",
      "        p_i = softmax(lr.W, xi)\n",
      "        error = np.zeros(p_i.shape)\n",
      "        error[lr.y[i]] = 1\n",
      "        error = error - p_i\n",
      "        grad = np.outer(xi, error)\n",
      "        lr.W += get_learning_rate(t) * grad\n",
      "        new_loss = lr.loss()\n",
      "        losses.append(new_loss)\n",
      "        gradients.append(grad)\n",
      "    plt.plot(np.arange(len(losses)), np.log(losses))\n",
      "    plt.ylabel(\"log of the loss function\")\n",
      "    plt.xlabel(\"#samples seen\")\n",
      "    plt.show()\n",
      "    from sklearn.decomposition import PCA\n",
      "    pca = PCA(n_components=3)\n",
      "    gradients = np.array(gradients)\n",
      "    #gradients = np.log(1 + np.abs(gradients.reshape(gradients.shape[0], gradients.shape[1]*gradients.shape[2])))\n",
      "    gradients = gradients.reshape(gradients.shape[0], gradients.shape[1]*gradients.shape[2])\n",
      "    grad = pca.fit_transform(gradients).transpose()\n",
      "    #grad = np.log(1 + np.abs(grad))\n",
      "    plt.plot(np.arange(grad.shape[1]), grad[0], label=\"#1 direction of the gradient\")\n",
      "    plt.plot(np.arange(grad.shape[1]), grad[1], label=\"#2 direction of the gradient\")\n",
      "    plt.plot(np.arange(grad.shape[1]), grad[2], label=\"#3 direction of the gradient\", linestyle=\":\")\n",
      "    m = np.mean(np.abs(gradients), axis=-1)\n",
      "    plt.plot(np.arange(grad.shape[1]-50), [10*np.sum(m[i:i+50]) for i in xrange(grad.shape[1]-50)],\n",
      "             label=\"smoothed $\\propto$ mean(abs(gradients))\", linestyle=\"--\")\n",
      "    #plt.ylabel(\"gradient log-magnitude\")\n",
      "    plt.ylabel(\"gradient values\")\n",
      "    plt.xlabel(\"#samples seen\")\n",
      "    plt.legend(loc=4)\n",
      "\n",
      "train_with_pure_SGD(lr, x_train, y_train)\n",
      "print(\"training accuracy:\", lr.score(x_train, y_train))\n",
      "print(\"test accuracy:\", lr.score(x_test, y_test))"
     ],
     "language": "python",
     "metadata": {},
     "outputs": [
      {
       "output_type": "stream",
       "stream": "stdout",
       "text": [
        "loss before training: 2.30258509299\n"
       ]
      },
      {
       "metadata": {},
       "output_type": "display_data",
       "png": "[encoded data removed]",
       "text": [
        "<matplotlib.figure.Figure at 0x11034aed0>"
       ]
      },
      {
       "output_type": "stream",
       "stream": "stdout",
       "text": [
        "training accuracy: 0.956777996071\n",
        "test accuracy: 0.933333333333\n"
       ]
      },
      {
       "metadata": {},
       "output_type": "display_data",
       "png": "[encoded data removed]",
       "text": [
        "<matplotlib.figure.Figure at 0x1104d6490>"
       ]
      }
     ],
     "prompt_number": 12
    },
    {
     "cell_type": "markdown",
     "metadata": {},
     "source": [
      "Can you think about an even more \"stochastic\" gradient descent? (yes, 2 answers at least: 1) just care about the sign, not the magnitude, 2) just update one of the weights per datapoint)"
     ]
    },
    {
     "cell_type": "heading",
     "level": 4,
     "metadata": {},
     "source": [
      "_Bonus:_ Adding momentum"
     ]
    },
    {
     "cell_type": "markdown",
     "metadata": {},
     "source": [
      "You can accumulate gradient in directions that are consistent thorough samples by using a momentum update. Instead of doing: $$W_{t+1} = W_t + \\lambda \\nabla f(W_t)$$ add a momentum $v$ (with a parameter $\\mu$ and $v_0=0$, $\\mu$ being a \"friction\", it makes sense to take it $\\in [0\\dots1]$, I would advise trying $0.9$) s.t.: $$v_{t+1} = \\mu v_t + \\lambda \\nabla f(W_t)$$ $$W_{t+1} = W_t + v_{t+1}$$"
     ]
    },
    {
     "cell_type": "heading",
     "level": 2,
     "metadata": {},
     "source": [
      "3. Adding hidden layers"
     ]
    },
    {
     "cell_type": "heading",
     "level": 3,
     "metadata": {},
     "source": [
      "Some common non-linearities"
     ]
    },
    {
     "cell_type": "code",
     "collapsed": false,
     "input": [
      "a = np.arange(-3, 3, 0.01)\n",
      "plt.plot(a, a, label=\"linear\", linewidth=2, linestyle='--')\n",
      "plt.plot(a, 1./(1+np.exp(-4*a)), label=\"sigmoid\")  # I multiply by 4 so that's it's less flat\n",
      "plt.plot(a, np.tanh(4*a), label=\"tanh\")            # I multiply by 4 so that's it's less flat\n",
      "plt.plot(a, (a+abs(a))/2, label=\"ReLU\", linewidth=1.5)\n",
      "plt.legend(loc=4)"
     ],
     "language": "python",
     "metadata": {},
     "outputs": [
      {
       "metadata": {},
       "output_type": "pyout",
       "prompt_number": 13,
       "text": [
        "<matplotlib.legend.Legend at 0x11036a610>"
       ]
      },
      {
       "metadata": {},
       "output_type": "display_data",
       "png": "[encoded data removed]",
       "text": [
        "<matplotlib.figure.Figure at 0x110f2f910>"
       ]
      }
     ],
     "prompt_number": 13
    },
    {
     "cell_type": "code",
     "collapsed": false,
     "input": [
      "a = np.random.standard_normal((20,20))\n",
      "def non_linearities_imshows(a):\n",
      "    plt.imshow(a, label=\"linear\", cmap=plt.cm.gray_r, interpolation=\"none\")\n",
      "    print(\"linear\")\n",
      "    plt.colorbar()\n",
      "    plt.show()\n",
      "    plt.imshow(1./(1+np.exp(-4*a)), label=\"sigmoid\", cmap=plt.cm.gray_r, interpolation=\"none\") # /!\\ mult by 4\n",
      "    print(\"sigmoid\")\n",
      "    plt.colorbar()\n",
      "    plt.show()\n",
      "    plt.imshow(np.tanh(4*a), label=\"tanh\", cmap=plt.cm.gray_r, interpolation=\"none\") # /!\\ mult by 4\n",
      "    print(\"tanh\")\n",
      "    plt.colorbar()\n",
      "    plt.show()\n",
      "    plt.imshow((a+abs(a))/2, label=\"ReLU\", cmap=plt.cm.gray_r, interpolation=\"none\")\n",
      "    print(\"Rectified Linear Unit\")\n",
      "    plt.colorbar()\n",
      "    plt.show()\n",
      "\n",
      "non_linearities_imshows(a)\n",
      "#non_linearities_imshows(digits.images[0])"
     ],
     "language": "python",
     "metadata": {},
     "outputs": [
      {
       "output_type": "stream",
       "stream": "stdout",
       "text": [
        "linear\n"
       ]
      },
      {
       "metadata": {},
       "output_type": "display_data",
       "png": "[encoded data removed]",
       "text": [
        "<matplotlib.figure.Figure at 0x11056fc90>"
       ]
      },
      {
       "output_type": "stream",
       "stream": "stdout",
       "text": [
        "sigmoid\n"
       ]
      },
      {
       "metadata": {},
       "output_type": "display_data",
       "png": "[encoded data removed]",
       "text": [
        "<matplotlib.figure.Figure at 0x11054cdd0>"
       ]
      },
      {
       "output_type": "stream",
       "stream": "stdout",
       "text": [
        "tanh\n"
       ]
      },
      {
       "metadata": {},
       "output_type": "display_data",
       "png": "[encoded data removed]",
       "text": [
        "<matplotlib.figure.Figure at 0x11109e410>"
       ]
      },
      {
       "output_type": "stream",
       "stream": "stdout",
       "text": [
        "Rectified Linear Unit\n"
       ]
      },
      {
       "metadata": {},
       "output_type": "display_data",
       "png": "[encoded data removed]",
       "text": [
        "<matplotlib.figure.Figure at 0x1135d1550>"
       ]
      }
     ],
     "prompt_number": 16
    },
    {
     "cell_type": "heading",
     "level": 3,
     "metadata": {},
     "source": [
      "Backpropagation"
     ]
    },
    {
     "cell_type": "heading",
     "level": 6,
     "metadata": {},
     "source": [
      "Intro to backprop"
     ]
    },
    {
     "cell_type": "markdown",
     "metadata": {},
     "source": [
      "Let's say we want to maximize $f = g*z$ and we also have $g = x + y$  \n",
      "Previously, we saw the case for one layer (logistic regression), that we can minimize $f$ by following the gradient in both these directions $\\frac{\\partial f(q,z)}{\\partial g} = z$ and $\\frac{\\partial f(g,z)}{\\partial z} = g$   \n",
      "Now, what does it mean to follow $g$? We have $\\frac{\\partial g(x,y)}{\\partial x} = 1$ and $\\frac{\\partial g(x,y)}{\\partial y} = 1$  \n",
      "We want to know how we have to change $x, y, z$ so that $f$ increases. Just as previously, we will take a gradient step $x = x + \\lambda \\frac{\\partial f}{\\partial x}$; $y = y + \\lambda  \\frac{\\partial f}{\\partial y}$; $z = z + \\lambda \\frac{\\partial f}{\\partial z}$. For $z$, we already know the gradient, it's $g$, so it's $x+y$. So we update $z$ with $z = z + \\lambda \\times (x+y)$. What about for $x$ and for $y$? We just apply the chain rule: $\\frac{\\partial f(g,z)}{\\partial x} = \\frac{\\partial f(g,z)}{\\partial g}\\frac{\\partial g(x,y)}{\\partial x}$, so for $x$ we update it with $x = x + \\lambda \\times \\frac{\\partial f(g,z)}{\\partial g} \\times \\frac{\\partial g(x,y)}{\\partial x} = x + z \\times 1$, and for $y$ we update it with $y = y + \\lambda \\times z \\times 1)$ too.\n",
      "\n",
      "So if you have not understood the above, you can try reading more details about backprop [here](http://karpathy.github.io/neuralnets/). Otherwise, let's apply backprop to our logistic regression to which we had a layer:"
     ]
    },
    {
     "cell_type": "heading",
     "level": 6,
     "metadata": {},
     "source": [
      "Backprop on our logistic regression, with one additional hidden layer"
     ]
    },
    {
     "cell_type": "markdown",
     "metadata": {},
     "source": [
      "The forward pass of our logistic regression is currently: $$X \\rightarrow W_{logistic} \\cdot X \\rightarrow softmax$$\n",
      "\n",
      "Let's consider that we add a hidden layer with a non-linearity $\\sigma$ to our logistic regression, it becomes: \n",
      "$$X \\rightarrow W_{hidden} \\cdot X \\rightarrow \\sigma(W_{hidden} \\cdot X) \\rightarrow W_{logistic} \\cdot \\sigma(W_{hidden} \\cdot X) \\rightarrow softmax$$\n",
      "\n",
      "The intuition behind back-propagation is that we keep doing what we did for optimising our previous loss function but for all the layers. The cool thing is that thanks to the chain rule of derivatives, this is an efficient process! Previously our loss (error) was the sum of the errors for all points, and it's a function of our weights: $$E(W) = \\sum_{n=1}^N E_n(W)$$\n",
      "\n",
      "Now if we add a hidden layer with a non-linearity $\\sigma$ our predictions become $$P(y_i=j|x_n; W) = softmax(W_{logistic}, \\sigma(W_{hidden}, x_n))[j]$$\n",
      "\n",
      "Our loss function code changes to take this formula into account. And that's it for the forward pass. Let's note $a_j = \\sum_i w_{ji}z_i$ for the pre-activation units, also called pre-synaptic, and $z_i = \\sigma(a_i)$ are the activations (or the layer below in the previous $a_j$ formula), also called post-synaptic. Now if we keep using the gradient updates that we saw before, we can only apply them to the activated hidden units, and we don't know how we should change $W_{hidden}$. We do that through the chain rule: $$\\frac{\\partial E_n}{\\partial w_{ji}} = \\frac{\\partial E_n}{\\partial a_j}\\frac{\\partial a_j}{\\partial w_{ji}}$$\n",
      "\n",
      "That means, we can back-propagate the errors through the partial derivatives: we can compute how much each of the hidden units contributes to the error, and have a gradient w.r.t. its weights. In the code, I called *err_h* the errors at the hidden units, and *err_o* the errors are the output, *act_xi* the activations of the hidden units, *act_d* the activation derivatives, and *backprop_o* the backpropagation of the output error. The algorithm looks like:\n",
      "1. Do a forward pass to get the output errors $\\delta_k$ (*err_o*)\n",
      "2. Back-propagate the errors with $\\sum_k w_{kj} \\delta_k$ (*backprop_o*) and multiply these backpropagated errors by the derivative of the activations $\\sigma'(a_j)$ (*act_d*) to get the error at this level: $\\delta_j = \\sigma'(a_j)\\sum_k w_{kj} \\delta_k$ (*err_h*)\n",
      "3. Multiply by the activations to get the local gradient: $\\frac{\\partial E_n}{\\partial w_{ji}} = \\delta_j z_i$\n",
      "\n",
      "Everything I told you about back-prop now generalizes from 1 to K hidden layers, because the chain rule $\\frac{\\partial E}{\\partial W} = \\frac{\\partial E}{\\partial a_j}\\frac{\\partial a_j}{\\dots }\\frac{\\dots }{\\partial W}$ stays true. So if we had more hidden layers, we would repeat steps 2 and 3 as much as needed to get back to the input features ($z_i == x_{ni}$).\n"
     ]
    },
    {
     "cell_type": "heading",
     "level": 3,
     "metadata": {},
     "source": [
      "Changing our Logistic-regression into a \"Neural\" Net"
     ]
    },
    {
     "cell_type": "code",
     "collapsed": false,
     "input": [
      "def relu_u(W, x, clip=6):\n",
      "    \"\"\"\n",
      "    ReLU unit function: max(0, W.x)\n",
      "    In [1]: a = np.random.standard_normal((1000,1000))\n",
      "    In [2]: %timeit (a+abs(a))/2\n",
      "    100 loops, best of 3: 4.27 ms per loop\n",
      "    In [3]: %timeit a[a<0]=0\n",
      "    1000 loops, best of 3: 736 \u00b5s per loop\n",
      "    \"\"\"\n",
      "    #tmp = np.dot(x, W)\n",
      "    #tmp[tmp < 0] = 0\n",
      "    #return np.append(tmp, 1)  # for the biases of the next layer\n",
      "    return np.append(np.clip(np.dot(x, W), 0, clip), 1)\n",
      "\n",
      "def relu_d(W, x, clip=4):\n",
      "    #return np.asarray(np.dot(x, W) >= 0, dtype='float')\n",
      "    tmp = np.dot(x, W)\n",
      "    return np.asarray((tmp >= 0) & (tmp < clip), dtype='float')\n",
      "\n",
      "def tanh_u(W, x):\n",
      "    tmp = np.dot(x, W)\n",
      "    return np.append(np.tanh(tmp), 1)  # for the biases of the next layer\n",
      "\n",
      "def tanh_d(W, x):\n",
      "    tmp = tanh_u(W, x)[:-1]\n",
      "    return 1 - tmp**2\n",
      "\n",
      "\n",
      "class NeuralNet:\n",
      "    def __init__(self):\n",
      "        self.name = \"Neural Net\"\n",
      "        #self.act_u = relu_u  # try ReLUs, but with a small learning rate\n",
      "        #self.act_d = relu_d  # (think about why)\n",
      "        self.act_u = tanh_u\n",
      "        self.act_d = tanh_d\n",
      "        \n",
      "    def loss(self):\n",
      "        \"\"\" Negative log-likelihood of logistic regression using the hidden layer \"\"\"\n",
      "        l = 0.\n",
      "        for i, xi in enumerate(self.x):\n",
      "            p_i = self.pred(xi)\n",
      "            l += np.log(p_i[self.y[i]])\n",
      "        return - l / self.x.shape[0]\n",
      "            \n",
      "    def one_epoch_of_backprop_SGD(self, learning_rate=0.01):\n",
      "        \"\"\" applying the backprop equations explained above \"\"\"\n",
      "        for i, xi in enumerate(self.x):\n",
      "            act_xi = self.act_u(self.W_hid, xi)\n",
      "            p_i = softmax(self.W_log, act_xi)\n",
      "            err_o = np.zeros(p_i.shape)\n",
      "            err_o[self.y[i]] = 1\n",
      "            err_o = err_o - p_i\n",
      "            backprop_o = np.dot(err_o, self.W_log[:-1,:].T)\n",
      "            act_d = self.act_d(self.W_hid, xi)\n",
      "            err_h = act_d * backprop_o\n",
      "            self.W_hid += learning_rate * np.outer(xi, err_h)\n",
      "            self.W_log += learning_rate * np.outer(act_xi, err_o)\n",
      "    \n",
      "    def pred(self, xi):\n",
      "        return softmax(self.W_log, self.act_u(self.W_hid, xi))\n",
      "                    \n",
      "    def train(self, x_train, y_train, n_hidden=42):  # try different numbers of hidden units, e.g. 4, 64, 128, 200\n",
      "        self.x = np.hstack((x_train, np.ones((x_train.shape[0], 1))))\n",
      "        self.y = y_train\n",
      "        self.n_classes = len(set(y_train))\n",
      "        self.n_hidden = n_hidden\n",
      "        self.W_hid = np.random.random((x_train.shape[1] + 1, self.n_hidden)) - 0.5\n",
      "        self.W_hid *= 2 * 6. / (x_train.shape[1] + self.n_hidden)\n",
      "        self.W_log = np.zeros((self.n_hidden + 1, self.n_classes))  # +1 for biases\n",
      "        print(\"x shape:\", self.x.shape)\n",
      "        print(\"W_hid shape:\", self.W_hid.shape)\n",
      "        print(\"W_log shape:\", self.W_log.shape)\n",
      "        tmp_loss = self.loss()\n",
      "        print(\"training loss before training:\", tmp_loss)\n",
      "        print(\"prediction on x[0] before training:\", self.pred(self.x[0]))\n",
      "        # training with SGD\n",
      "        losses = [tmp_loss]\n",
      "        l_r = 0.01\n",
      "        for _ in xrange(10):  # 10 epochs\n",
      "            self.one_epoch_of_backprop_SGD(learning_rate=l_r)\n",
      "            losses.append(self.loss())\n",
      "            # play with the learning rate schemes\n",
      "        print(\"best loss:\", losses[-1])\n",
      "        print(\"training loss after training:\", self.loss())\n",
      "        print(\"prediction on x[0] after training:\", self.pred(self.x[0]))\n",
      "        print(\"true x[0] label:\", self.y[0])\n",
      "        plt.plot(np.arange(len(losses)), np.log(losses), linewidth=1)\n",
      "        plt.ylabel(\"log of the loss function\")\n",
      "        plt.xlabel(\"#epochs\")\n",
      "        plt.show()\n",
      "        plt.imshow(self.W_hid, interpolation='none')\n",
      "        plt.colorbar()\n",
      "        plt.show()\n",
      "        #plt.imshow(self.W_log, interpolation='none')\n",
      "        #plt.colorbar()\n",
      "        #plt.show()\n",
      "        \n",
      "    def score(self, x_test, y_test):\n",
      "        x = np.hstack((x_test, np.ones((x_test.shape[0], 1))))\n",
      "        y = y_test\n",
      "        c = 0\n",
      "        for i, xi in enumerate(x):\n",
      "            a = np.argmax(self.pred(xi))\n",
      "            if a == y[i]:\n",
      "                c += 1\n",
      "        return c * 1. / y.shape[0]\n",
      "    \n",
      "nn = NeuralNet()\n",
      "nn.train(x_train, y_train)\n",
      "print(\"Train set accuracy:\", nn.score(x_train, y_train))\n",
      "print(\"Test set accuracy:\", nn.score(x_test, y_test))\n",
      "#nn.train(x_train, y_train, n_hidden=10)\n",
      "#print \"Train set accuracy:\", nn.score(x_train, y_train)\n",
      "#print \"Test set accuracy:\", nn.score(x_test, y_test)\n",
      "print(\"you can also regularize a neural net, just change the loss function appropriately\")"
     ],
     "language": "python",
     "metadata": {},
     "outputs": [
      {
       "output_type": "stream",
       "stream": "stdout",
       "text": [
        "x shape: (1527, 65)\n",
        "W_hid shape: (65, 42)\n",
        "W_log shape: (43, 10)\n",
        "training loss before training: 2.30258509299\n",
        "prediction on x[0] before training: [ 0.1  0.1  0.1  0.1  0.1  0.1  0.1  0.1  0.1  0.1]\n",
        "best loss:"
       ]
      },
      {
       "output_type": "stream",
       "stream": "stdout",
       "text": [
        " 0.0253889805665\n",
        "training loss after training: 0.0253889805665\n",
        "prediction on x[0] after training: [  3.83913679e-05   8.68270986e-01   3.32674656e-04   1.51426304e-06\n",
        "   5.77964865e-03   1.86531340e-05   2.65499370e-03   2.51086136e-05\n",
        "   1.22848931e-01   2.90992410e-05]\n",
        "true x[0] label: 1\n"
       ]
      },
      {
       "metadata": {},
       "output_type": "display_data",
       "png": "[encoded data removed]",
       "text": [
        "<matplotlib.figure.Figure at 0x110f38b50>"
       ]
      },
      {
       "metadata": {},
       "output_type": "display_data",
       "png": "[encoded data removed]",
       "text": [
        "<matplotlib.figure.Figure at 0x110ef2550>"
       ]
      },
      {
       "output_type": "stream",
       "stream": "stdout",
       "text": [
        "Train set accuracy: 0.998035363458\n",
        "Test set accuracy: 0.97037037037\n",
        "you can also regularize a neural net, just change the loss function appropriately\n"
       ]
      }
     ],
     "prompt_number": 17
    },
    {
     "cell_type": "markdown",
     "metadata": {},
     "source": [
      "_Bonus:_ With more weights, this neural net is even more prone to overfitting. So you could regularize it."
     ]
    },
    {
     "cell_type": "markdown",
     "metadata": {},
     "source": [
      "_Bonus:_ You can also add another hidden layer."
     ]
    },
    {
     "cell_type": "heading",
     "level": 2,
     "metadata": {},
     "source": [
      "4. Graduate to MNIST and Theano"
     ]
    },
    {
     "cell_type": "heading",
     "level": 3,
     "metadata": {},
     "source": [
      "Intro to Theano"
     ]
    },
    {
     "cell_type": "markdown",
     "metadata": {},
     "source": [
      "Theano works by compiling symbolic expressions into native code (on CPUs or GPUs). There is a nice \"getting started\" [Theano tutorial](http://nbviewer.ipython.org/github/craffel/theano-tutorial/blob/master/Theano%20Tutorial.ipynb) and a more thorough tutorial here http://deeplearning.net/software/theano/tutorial/ Everything you should need for the moment is here http://deeplearning.net/software/theano/library/tensor/basic.html\n"
     ]
    },
    {
     "cell_type": "code",
     "collapsed": false,
     "input": [
      "from theano import tensor as T\n",
      "A = T.fmatrix()\n",
      "B = T.fmatrix()\n",
      "C = T.dot(A, B)\n",
      "C"
     ],
     "language": "python",
     "metadata": {},
     "outputs": [
      {
       "output_type": "stream",
       "stream": "stderr",
       "text": [
        "Using gpu device 0: GeForce GT 650M\n"
       ]
      },
      {
       "metadata": {},
       "output_type": "pyout",
       "prompt_number": 118,
       "text": [
        "dot.0"
       ]
      }
     ],
     "prompt_number": 118
    },
    {
     "cell_type": "code",
     "collapsed": false,
     "input": [
      "A = np.random.random((10,10))\n",
      "B = np.random.random((10,10))\n",
      "C = T.dot(A, B)\n",
      "C.eval()"
     ],
     "language": "python",
     "metadata": {},
     "outputs": [
      {
       "metadata": {},
       "output_type": "pyout",
       "prompt_number": 123,
       "text": [
        "array([[ 2.49987768,  3.46830327,  3.07533679,  3.28263693,  3.52006918,\n",
        "         2.81629526,  3.50309921,  2.48141154,  4.19651885,  3.27780272],\n",
        "       [ 1.70199903,  2.00788938,  1.74255066,  1.61437016,  1.83195921,\n",
        "         1.17366047,  1.54721088,  1.0543538 ,  1.85787448,  2.13366925],\n",
        "       [ 2.57912841,  2.53388569,  2.52165203,  3.13951882,  2.59604248,\n",
        "         2.49420427,  2.86811637,  1.95585705,  3.64772433,  2.71894285],\n",
        "       [ 1.65627613,  1.69303027,  1.29031643,  1.75713726,  1.45599642,\n",
        "         1.6585249 ,  1.23043086,  1.07044738,  1.84521083,  1.72626196],\n",
        "       [ 1.61517609,  2.49009226,  2.00571427,  2.26128717,  2.07083152,\n",
        "         1.6539112 ,  1.97799148,  1.57657089,  2.51517353,  2.21145721],\n",
        "       [ 1.65610118,  1.61789874,  1.7242132 ,  1.90119529,  1.96550927,\n",
        "         1.46273452,  1.55532116,  0.9811569 ,  2.17289324,  1.58394601],\n",
        "       [ 1.94265607,  3.00453935,  1.91916286,  2.93620479,  2.81513856,\n",
        "         2.02763359,  2.90217799,  2.03910296,  2.92258548,  3.04995599],\n",
        "       [ 1.32328403,  2.54435891,  1.09419405,  1.52412963,  1.90384414,\n",
        "         1.41099655,  1.27805053,  1.15345173,  1.67611008,  2.30179732],\n",
        "       [ 1.74330342,  3.39876145,  2.35130411,  2.57335844,  2.4635886 ,\n",
        "         2.55897828,  2.49926516,  2.11455371,  3.71868673,  2.75911756],\n",
        "       [ 2.13621873,  2.85752605,  2.03129205,  2.87908882,  2.70363845,\n",
        "         2.1858482 ,  2.81973067,  2.07834169,  2.94183379,  2.96044698]])"
       ]
      }
     ],
     "prompt_number": 123
    },
    {
     "cell_type": "code",
     "collapsed": false,
     "input": [
      "from theano import shared\n",
      "A = shared(A)\n",
      "B = shared(B)\n",
      "A"
     ],
     "language": "python",
     "metadata": {},
     "outputs": [
      {
       "metadata": {},
       "output_type": "pyout",
       "prompt_number": 124,
       "text": [
        "<TensorType(float64, matrix)>"
       ]
      }
     ],
     "prompt_number": 124
    },
    {
     "cell_type": "code",
     "collapsed": false,
     "input": [
      "C = T.dot(A, B)\n",
      "C.eval()"
     ],
     "language": "python",
     "metadata": {},
     "outputs": [
      {
       "metadata": {},
       "output_type": "pyout",
       "prompt_number": 125,
       "text": [
        "array([[ 2.49987768,  3.46830327,  3.07533679,  3.28263693,  3.52006918,\n",
        "         2.81629526,  3.50309921,  2.48141154,  4.19651885,  3.27780272],\n",
        "       [ 1.70199903,  2.00788938,  1.74255066,  1.61437016,  1.83195921,\n",
        "         1.17366047,  1.54721088,  1.0543538 ,  1.85787448,  2.13366925],\n",
        "       [ 2.57912841,  2.53388569,  2.52165203,  3.13951882,  2.59604248,\n",
        "         2.49420427,  2.86811637,  1.95585705,  3.64772433,  2.71894285],\n",
        "       [ 1.65627613,  1.69303027,  1.29031643,  1.75713726,  1.45599642,\n",
        "         1.6585249 ,  1.23043086,  1.07044738,  1.84521083,  1.72626196],\n",
        "       [ 1.61517609,  2.49009226,  2.00571427,  2.26128717,  2.07083152,\n",
        "         1.6539112 ,  1.97799148,  1.57657089,  2.51517353,  2.21145721],\n",
        "       [ 1.65610118,  1.61789874,  1.7242132 ,  1.90119529,  1.96550927,\n",
        "         1.46273452,  1.55532116,  0.9811569 ,  2.17289324,  1.58394601],\n",
        "       [ 1.94265607,  3.00453935,  1.91916286,  2.93620479,  2.81513856,\n",
        "         2.02763359,  2.90217799,  2.03910296,  2.92258548,  3.04995599],\n",
        "       [ 1.32328403,  2.54435891,  1.09419405,  1.52412963,  1.90384414,\n",
        "         1.41099655,  1.27805053,  1.15345173,  1.67611008,  2.30179732],\n",
        "       [ 1.74330342,  3.39876145,  2.35130411,  2.57335844,  2.4635886 ,\n",
        "         2.55897828,  2.49926516,  2.11455371,  3.71868673,  2.75911756],\n",
        "       [ 2.13621873,  2.85752605,  2.03129205,  2.87908882,  2.70363845,\n",
        "         2.1858482 ,  2.81973067,  2.07834169,  2.94183379,  2.96044698]])"
       ]
      }
     ],
     "prompt_number": 125
    },
    {
     "cell_type": "markdown",
     "metadata": {},
     "source": [
      "If you want to know more about \"shared-correctness\", you should read: http://deeplearning.net/software/theano/tutorial/aliasing.html"
     ]
    },
    {
     "cell_type": "heading",
     "level": 3,
     "metadata": {},
     "source": [
      "MNIST deep learning in one file"
     ]
    },
    {
     "cell_type": "markdown",
     "metadata": {},
     "source": [
      "Use `python dnn.py` from this repo https://github.com/SnippyHolloW/DL4H"
     ]
    },
    {
     "cell_type": "heading",
     "level": 2,
     "metadata": {},
     "source": [
      "5. LUCID words classification"
     ]
    },
    {
     "cell_type": "markdown",
     "metadata": {},
     "source": [
      "Use `python lucid.py` from this repo https://github.com/SnippyHolloW/DL4H"
     ]
    },
    {
     "cell_type": "heading",
     "level": 2,
     "metadata": {},
     "source": [
      "6. Some of the \"bonus\" questions solutions"
     ]
    },
    {
     "cell_type": "code",
     "collapsed": false,
     "input": [
      "# solution for the first bonus question\n",
      "alpha = 0.001    \n",
      "    def loss_l2(self, W):\n",
      "        tmp_W = W.reshape((self.x.shape[1], self.n_classes))\n",
      "        return self.loss(W) + alpha*np.sum([np.linalg.norm(tmp)**2 for tmp in tmp_W])\n",
      "    \n",
      "    def loss_derivative_l2(self, W):\n",
      "        return self.loss_derivative(W) + 2*alpha*W    \n",
      "    \n",
      "    # in train:\n",
      "        tmp = fmin_l_bfgs_b(self.loss_l2, self.W.reshape((self.W.shape[0]*self.W.shape[1],)), fprime=self.loss_derivative_l2)\n",
      "        \n",
      "    \n",
      "# solution for the second bonus question\n",
      "    def loss_hinge_l2(self, W):\n",
      "        l = 0.\n",
      "        tmp_W = W.reshape((self.x.shape[1], self.n_classes))\n",
      "        for i, xi in enumerate(self.x):\n",
      "            tmp_max = -1.\n",
      "            good = np.dot(tmp_W[:,self.y[i]], xi)\n",
      "            for j in xrange(self.n_classes):\n",
      "                if j == self.y[i]:\n",
      "                    continue\n",
      "                delta = good - np.dot(tmp_W[:,j], xi)\n",
      "                if delta > tmp_max:\n",
      "                    tmp_max = delta\n",
      "            l += max(0, 1 + tmp_max)\n",
      "        return - l / self.x.shape[0] + alpha*np.sum([np.linalg.norm(tmp)**2 for tmp in tmp_W])\n",
      "\n",
      "    def loss_derivative_hinge_l2(self, W):\n",
      "        d = np.zeros((self.x.shape[1], self.n_classes)) # that's the Jacobian\n",
      "        tmp_W = W.reshape((self.x.shape[1], self.n_classes))\n",
      "        for i, xi in enumerate(self.x):\n",
      "            for j in xrange(self.n_classes):\n",
      "                if j == self.y[i]:\n",
      "                    pass\n",
      "                else:\n",
      "                    d[:,j] += -np.dot(tmp_W[:,j], xi) * xi               \n",
      "        d = d.reshape(W.shape) # and we flatten it\n",
      "        return - d / self.x.shape[0] + alpha*np.sum([np.linalg.norm(tmp)**2 for tmp in tmp_W])\n",
      "    \n",
      "    def score(self, x_test, y_test):\n",
      "        x = np.hstack((x_test, np.ones((x_test.shape[0], 1))))\n",
      "        y = y_test\n",
      "        c = 0\n",
      "        for i, xi in enumerate(x):\n",
      "            #a = np.argmax(softmax(self.W, xi))\n",
      "            a = np.argmax(np.dot(self.W.transpose(), xi))\n",
      "            if a == y[i]:\n",
      "                c += 1\n",
      "        return c * 1. / y.shape[0]\n",
      "    \n",
      "    # in train:\n",
      "        tmp = fmin_l_bfgs_b(self.loss_hinge_l2, self.W.reshape((self.W.shape[0]*self.W.shape[1],)),\n",
      "                            fprime=self.loss_derivative_hinge_l2)"
     ],
     "language": "python",
     "metadata": {},
     "outputs": []
    }
   ],
   "metadata": {}
  }
 ]
}
